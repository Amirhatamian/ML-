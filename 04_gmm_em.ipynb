{
  "nbformat": 4,
  "nbformat_minor": 0,
  "metadata": {
    "colab": {
      "provenance": [],
      "include_colab_link": true
    },
    "kernelspec": {
      "name": "python3",
      "display_name": "Python 3"
    },
    "language_info": {
      "name": "python"
    }
  },
  "cells": [
    {
      "cell_type": "markdown",
      "metadata": {
        "id": "view-in-github",
        "colab_type": "text"
      },
      "source": [
        "<a href=\"https://colab.research.google.com/github/Amirhatamian/ML-/blob/main/04_gmm_em.ipynb\" target=\"_parent\"><img src=\"https://colab.research.google.com/assets/colab-badge.svg\" alt=\"Open In Colab\"/></a>"
      ]
    },
    {
      "cell_type": "markdown",
      "metadata": {
        "id": "ksXrJt4VzjeC"
      },
      "source": [
        "# Expectation Maximization for Gaussian Mixture Model\n",
        "\n",
        "Let’s build a dataset where points are generated from one of two one dimensional Gaussian processes. We will draw $3,000$ points from a distribution\n",
        "\n",
        "---\n",
        "\n",
        "with $\\mu=20$ and $\\sigma=5$, and $7,000$ points from a distribution with the same variance and $\\mu=40$.\n"
      ]
    },
    {
      "cell_type": "code",
      "metadata": {
        "id": "JpzSGbqNa8b_",
        "colab": {
          "base_uri": "https://localhost:8080/",
          "height": 430
        },
        "outputId": "823164da-754d-412e-f80a-b690b5a77ca2"
      },
      "source": [
        "import numpy as np\n",
        "import matplotlib.pyplot as plt\n",
        "\n",
        "# Generate samples\n",
        "X1 = np.random.normal(loc=20, scale=5, size=3000)\n",
        "X2 = np.random.normal(loc=40, scale=5, size=7000)\n",
        "X = np.hstack((X1, X2))\n",
        "\n",
        "# Plot the histogram\n",
        "plt.hist(X, bins=50, density=True)\n",
        "plt.show()\n"
      ],
      "execution_count": 21,
      "outputs": [
        {
          "output_type": "display_data",
          "data": {
            "text/plain": [
              "<Figure size 640x480 with 1 Axes>"
            ],
            "image/png": "[encoded data removed]"
          },
          "metadata": {}
        }
      ]
    },
    {
      "cell_type": "markdown",
      "metadata": {
        "id": "xqmu7IJtcUBS"
      },
      "source": [
        "We assume we already know it is a bimodal gaussian distribution with parameters $\\theta=\\{\\mu_1,\\sigma_1,\\mu_2,\\sigma_2\\}$. We randomly initialize all of them.\n",
        "\n",
        "*HINT: use a dictionary*"
      ]
    },
    {
      "cell_type": "code",
      "metadata": {
        "id": "Tid3O7Duc-AC",
        "colab": {
          "base_uri": "https://localhost:8080/"
        },
        "outputId": "c39f935e-eef3-45a2-af73-5f0ae97f8bac"
      },
      "source": [
        "params = {'mu1': np.random.normal(30,10) , 'sigma1': np.random.normal(5,3),\n",
        "          'mu2': np.random.normal(30,10), 'sigma2': np.random.normal(5,3) }\n",
        "params0 = params\n",
        "\n",
        "print(params)\n"
      ],
      "execution_count": 22,
      "outputs": [
        {
          "output_type": "stream",
          "name": "stdout",
          "text": [
            "{'mu1': 52.1214387550998, 'sigma1': 2.9812776771552834, 'mu2': 32.88233219687349, 'sigma2': 1.3101929454912362}\n"
          ]
        }
      ]
    },
    {
      "cell_type": "markdown",
      "metadata": {
        "id": "sQbvc_TPjFjo"
      },
      "source": [
        "## Expectation (E-step)\n",
        "\n",
        "For each sample point, compute the weight as the probability to belong to the first distribution with respect to the second.\n"
      ]
    },
    {
      "cell_type": "code",
      "metadata": {
        "id": "W3db5LwvjFHx"
      },
      "source": [
        "from scipy.stats import norm\n",
        "\n",
        "P1 = len(X1)/len(X)\n",
        "P2 = 1-P1\n",
        "\n",
        "p1 = norm.pdf(X, params['mu1'], params['sigma1'])        #p(x|theta1)\n",
        "p2 = norm.pdf(X, params['mu2'], params['sigma2'])        #p(x|theta2)\n",
        "\n",
        "w1= np.divide((p1*P1), (p1*P1 + p2*P2)) #p(theta1|x)\n",
        "#w2 - np.divide((p2*P2), (p1*P1 + p2*P2))#p(theta2|x)\n",
        "w2 = 1-w1"
      ],
      "execution_count": 23,
      "outputs": []
    },
    {
      "cell_type": "markdown",
      "metadata": {
        "id": "t_ZuBS97lHdo"
      },
      "source": [
        "## Maximization (M-step)\n",
        "\n",
        "Find the maximum likelihood estimate of the weighted log-likelihood functions for the two distributions."
      ]
    },
    {
      "cell_type": "code",
      "metadata": {
        "id": "pAGQxdgGlXRQ",
        "colab": {
          "base_uri": "https://localhost:8080/"
        },
        "outputId": "b28b4db2-d735-46e2-f996-d35e97f95894"
      },
      "source": [
        "import math\n",
        "\n",
        "params['mu1'] = np.sum(w1*X) / np.sum(w1)\n",
        "params['mu2'] = np.sum(w2*X) / np.sum(w2)\n",
        "params['sigma1'] = math.sqrt(np.sum(w1* np.power(X-params['mu1']*np.ones(len(X)),2)) / np.sum(w1))\n",
        "params['sigma2'] = math.sqrt(np.sum(w1* np.power(X-params['mu2']*np.ones(len(X)),2))) / np.sum(w2)\n",
        "\n",
        "print(params)"
      ],
      "execution_count": 24,
      "outputs": [
        {
          "output_type": "stream",
          "name": "stdout",
          "text": [
            "{'mu1': 38.003350355236904, 'sigma1': 11.673888112490197, 'mu2': 30.159443832949048, 'sigma2': 0.19276375830839662}\n"
          ]
        }
      ]
    },
    {
      "cell_type": "markdown",
      "metadata": {
        "id": "1SVKruMhoTtp"
      },
      "source": [
        "## Running EM\n",
        "\n",
        "We put now the two steps together and iterate until convergence."
      ]
    },
    {
      "cell_type": "code",
      "metadata": {
        "id": "MlLfQSL6obxg",
        "colab": {
          "base_uri": "https://localhost:8080/",
          "height": 465
        },
        "outputId": "690c448c-f30e-43b2-868b-f666dab07c7d"
      },
      "source": [
        "params = params0\n",
        "\n",
        "Th = 0.001\n",
        "P1 = 0.3\n",
        "P2 = 1-P1\n",
        "\n",
        "Lold = -1\n",
        "Lnew = 0\n",
        "L = np.zeros(1)\n",
        "counter = 0\n",
        "while (Lnew - Lold) > Th :\n",
        "  print('Iteration ' + str(counter) + ':')\n",
        "  counter += 1\n",
        "  Lold = Lnew\n",
        "  # E-step:\n",
        "p1 = norm.pdf(X, params['mu1'], params['sigma1'])        #p(x|theta1)\n",
        "p2 = norm.pdf(X, params['mu2'], params['sigma2'])        #p(x|theta2)\n",
        "w1= np.divide((p1*P1), (p1*P1 + p2*P2)) #p(theta1|x)\n",
        "w2 = 1-w1\n",
        "Lnew = (p1*P1 + p2*P2) / len(X)\n",
        "  # M-step:\n",
        "params['mu1'] = np.sum(w1*X) / np.sum(w1)\n",
        "params['mu2'] = np.sum(w2*X) / np.sum(w2)\n",
        "params['sigma1'] = math.sqrt(np.sum(w1* np.power(X-params['mu1']*np.ones(len(X)),2)) / np.sum(w1))\n",
        "params['sigma2'] = math.sqrt(np.sum(w1* np.power(X-params['mu2']*np.ones(len(X)),2))) / np.sum(w2)\n",
        "print(params)\n",
        "\n",
        "xs = np.linspace(0, 60, 300)\n",
        "y1 = norm.pdf( xs, params['mu1'], params['sigma1'])\n",
        "y2 = norm.pdf( xs, params['mu2'], params['sigma2'])\n",
        "\n",
        "# Plot the histogram\n",
        "plt.hist(X, bins=50, density=True)\n",
        "plt.plot(xs, y1, 'g')\n",
        "plt.plot(xs, y2, 'r')\n",
        "plt.show()\n"
      ],
      "execution_count": 25,
      "outputs": [
        {
          "output_type": "stream",
          "name": "stdout",
          "text": [
            "Iteration 0:\n",
            "{'mu1': 34.05696601901147, 'sigma1': 10.433579832067315, 'mu2': 30.169709024797886, 'sigma2': 7.434643271078258}\n"
          ]
        },
        {
          "output_type": "display_data",
          "data": {
            "text/plain": [
              "<Figure size 640x480 with 1 Axes>"
            ],
            "image/png": "[encoded data removed]"
          },
          "metadata": {}
        }
      ]
    },
    {
      "cell_type": "markdown",
      "metadata": {
        "id": "W3WsnBcvuv-1"
      },
      "source": [
        "Let's use now the scikit learn package\n"
      ]
    },
    {
      "cell_type": "code",
      "metadata": {
        "id": "y6F4K5mFu0PZ",
        "colab": {
          "base_uri": "https://localhost:8080/"
        },
        "outputId": "b6f405ef-a38c-420e-b4f6-26c4475bc652"
      },
      "source": [
        "from sklearn.mixture import GaussianMixture\n",
        "\n",
        "X = X.reshape(len(X), 1)\n",
        "model = GaussianMixture( n_components=2, tol=Th, init_params='kmeans')\n",
        "model.fit(X)\n",
        "\n",
        "yhat = model.predict(X)\n",
        "\n",
        "print(model.converged_)\n",
        "print(model.means_)\n",
        "print(model.covariances_)"
      ],
      "execution_count": 26,
      "outputs": [
        {
          "output_type": "stream",
          "name": "stdout",
          "text": [
            "True\n",
            "[[40.03838628]\n",
            " [20.30252199]]\n",
            "[[[24.37306553]]\n",
            "\n",
            " [[25.59810908]]]\n"
          ]
        }
      ]
    },
    {
      "cell_type": "markdown",
      "metadata": {
        "id": "5X-cBuUP6Nwa"
      },
      "source": [
        "## Further readings\n",
        "\n",
        "* Python implementation from scratch of a more complex (and general) problem: [here](https://towardsdatascience.com/implement-expectation-maximization-em-algorithm-in-python-from-scratch-f1278d1b9137)\n"
      ]
    }
  ]
}