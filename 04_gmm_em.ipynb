{
  "nbformat": 4,
  "nbformat_minor": 0,
  "metadata": {
    "colab": {
      "provenance": [],
      "include_colab_link": true
    },
    "kernelspec": {
      "name": "python3",
      "display_name": "Python 3"
    },
    "language_info": {
      "name": "python"
    }
  },
  "cells": [
    {
      "cell_type": "markdown",
      "metadata": {
        "id": "view-in-github",
        "colab_type": "text"
      },
      "source": [
        "<a href=\"https://colab.research.google.com/github/Amirhatamian/ML-/blob/main/04_gmm_em.ipynb\" target=\"_parent\"><img src=\"https://colab.research.google.com/assets/colab-badge.svg\" alt=\"Open In Colab\"/></a>"
      ]
    },
    {
      "cell_type": "markdown",
      "metadata": {
        "id": "ksXrJt4VzjeC"
      },
      "source": [
        "# Expectation Maximization for Gaussian Mixture Model\n",
        "\n",
        "Let’s build a dataset where points are generated from one of two one dimensional Gaussian processes. We will draw $3,000$ points from a distribution\n",
        "\n",
        "---\n",
        "\n",
        "with $\\mu=20$ and $\\sigma=5$, and $7,000$ points from a distribution with the same variance and $\\mu=40$.\n"
      ]
    },
    {
      "cell_type": "code",
      "metadata": {
        "id": "JpzSGbqNa8b_",
        "colab": {
          "base_uri": "https://localhost:8080/",
          "height": 430
        },
        "outputId": "c7f393c7-3795-4dd0-ea7e-e824c73ca0e3"
      },
      "source": [
        "import numpy as np\n",
        "import matplotlib.pyplot as plt\n",
        "\n",
        "# Generate samples\n",
        "X1 = np.random.normal(loc=20, scale=5, size=3000)\n",
        "X2 = np.random.normal(loc=40, scale=5, size=7000)\n",
        "X = np.hstack((X1, X2))\n",
        "\n",
        "# Plot the histogram\n",
        "plt.hist(X, bins=50, density=True)\n",
        "plt.show()\n"
      ],
      "execution_count": 8,
      "outputs": [
        {
          "output_type": "display_data",
          "data": {
            "text/plain": [
              "<Figure size 640x480 with 1 Axes>"
            ],
            "image/png": "[encoded data removed]"
          },
          "metadata": {}
        }
      ]
    },
    {
      "cell_type": "markdown",
      "metadata": {
        "id": "xqmu7IJtcUBS"
      },
      "source": [
        "We assume we already know it is a bimodal gaussian distribution with parameters $\\theta=\\{\\mu_1,\\sigma_1,\\mu_2,\\sigma_2\\}$. We randomly initialize all of them.\n",
        "\n",
        "*HINT: use a dictionary*"
      ]
    },
    {
      "cell_type": "code",
      "metadata": {
        "id": "Tid3O7Duc-AC",
        "colab": {
          "base_uri": "https://localhost:8080/"
        },
        "outputId": "ce56ee59-eb86-4b3c-84a3-9d263bcdeba7"
      },
      "source": [
        "params = {'mu1': np.random.normal(30,10) , 'sigma1': np.random.normal(5,3),\n",
        "          'mu2': np.random.normal(30,10), 'sigma2': np.random.normal(5,3) }\n",
        "params0 = params\n",
        "\n",
        "print(params)\n"
      ],
      "execution_count": 9,
      "outputs": [
        {
          "output_type": "stream",
          "name": "stdout",
          "text": [
            "{'mu1': 33.30868506670052, 'sigma1': 4.321083509355614, 'mu2': 47.84336958868827, 'sigma2': 6.849963088181571}\n"
          ]
        }
      ]
    },
    {
      "cell_type": "markdown",
      "metadata": {
        "id": "sQbvc_TPjFjo"
      },
      "source": [
        "## Expectation (E-step)\n",
        "\n",
        "For each sample point, compute the weight as the probability to belong to the first distribution with respect to the second.\n"
      ]
    },
    {
      "cell_type": "code",
      "metadata": {
        "id": "W3db5LwvjFHx",
        "colab": {
          "base_uri": "https://localhost:8080/",
          "height": 245
        },
        "outputId": "e5a10ba4-6a73-4dc4-e4c4-10b291c0425c"
      },
      "source": [
        "from scipy.stats import norm\n",
        "\n",
        "p1 = norm.pdf(X, params['mu1'], params['sigma1'])        #p(x|theta1)\n",
        "p2 = norm.pdf(X, params['mu2'], params['sigma2'])        #p(x|theta2)\n",
        "\n",
        "w1= np.divide((p1*P1), (p1*P1 + p2*P2)) #p(theta1|x)\n",
        "#w2 - np.divide((p2*P2), (p1*P1 + p2*P2))#p(theta2|x)\n",
        "w2 = 1-w1"
      ],
      "execution_count": 10,
      "outputs": [
        {
          "output_type": "error",
          "ename": "NameError",
          "evalue": "ignored",
          "traceback": [
            "\u001b[0;31m---------------------------------------------------------------------------\u001b[0m",
            "\u001b[0;31mNameError\u001b[0m                                 Traceback (most recent call last)",
            "\u001b[0;32m<ipython-input-10-32be6e8f2969>\u001b[0m in \u001b[0;36m<cell line: 6>\u001b[0;34m()\u001b[0m\n\u001b[1;32m      4\u001b[0m \u001b[0mp2\u001b[0m \u001b[0;34m=\u001b[0m \u001b[0mnorm\u001b[0m\u001b[0;34m.\u001b[0m\u001b[0mpdf\u001b[0m\u001b[0;34m(\u001b[0m\u001b[0mX\u001b[0m\u001b[0;34m,\u001b[0m \u001b[0mparams\u001b[0m\u001b[0;34m[\u001b[0m\u001b[0;34m'mu2'\u001b[0m\u001b[0;34m]\u001b[0m\u001b[0;34m,\u001b[0m \u001b[0mparams\u001b[0m\u001b[0;34m[\u001b[0m\u001b[0;34m'sigma2'\u001b[0m\u001b[0;34m]\u001b[0m\u001b[0;34m)\u001b[0m        \u001b[0;31m#p(x|theta2)\u001b[0m\u001b[0;34m\u001b[0m\u001b[0;34m\u001b[0m\u001b[0m\n\u001b[1;32m      5\u001b[0m \u001b[0;34m\u001b[0m\u001b[0m\n\u001b[0;32m----> 6\u001b[0;31m \u001b[0mw1\u001b[0m\u001b[0;34m=\u001b[0m \u001b[0mnp\u001b[0m\u001b[0;34m.\u001b[0m\u001b[0mdivide\u001b[0m\u001b[0;34m(\u001b[0m\u001b[0;34m(\u001b[0m\u001b[0mp1\u001b[0m\u001b[0;34m*\u001b[0m\u001b[0mP1\u001b[0m\u001b[0;34m)\u001b[0m\u001b[0;34m,\u001b[0m \u001b[0;34m(\u001b[0m\u001b[0mp1\u001b[0m\u001b[0;34m*\u001b[0m\u001b[0mP1\u001b[0m \u001b[0;34m+\u001b[0m \u001b[0mp2\u001b[0m\u001b[0;34m*\u001b[0m\u001b[0mP2\u001b[0m\u001b[0;34m)\u001b[0m\u001b[0;34m)\u001b[0m \u001b[0;31m#p(theta1|x)\u001b[0m\u001b[0;34m\u001b[0m\u001b[0;34m\u001b[0m\u001b[0m\n\u001b[0m\u001b[1;32m      7\u001b[0m \u001b[0;31m#w2 - np.divide((p2*P2), (p1*P1 + p2*P2))#p(theta2|x)\u001b[0m\u001b[0;34m\u001b[0m\u001b[0;34m\u001b[0m\u001b[0m\n\u001b[1;32m      8\u001b[0m \u001b[0mw2\u001b[0m \u001b[0;34m=\u001b[0m \u001b[0;36m1\u001b[0m\u001b[0;34m-\u001b[0m\u001b[0mw1\u001b[0m\u001b[0;34m\u001b[0m\u001b[0;34m\u001b[0m\u001b[0m\n",
            "\u001b[0;31mNameError\u001b[0m: name 'P1' is not defined"
          ]
        }
      ]
    },
    {
      "cell_type": "markdown",
      "metadata": {
        "id": "t_ZuBS97lHdo"
      },
      "source": [
        "## Maximization (M-step)\n",
        "\n",
        "Find the maximum likelihood estimate of the weighted log-likelihood functions for the two distributions."
      ]
    },
    {
      "cell_type": "code",
      "metadata": {
        "id": "pAGQxdgGlXRQ"
      },
      "source": [
        "import math\n",
        "\n",
        "params['mu1'] = np.sum(w1*X) / np.sum(w1)\n",
        "params['mu2'] = np.sum(w2*X) / np.sum(w2)\n",
        "params['sigma1'] = math.sqrt(np.sum(w1* np.power(X-params['mu1']*np.ones(len(X)),2)) / np.sum(w1))\n",
        "params['sigma2'] = math.sqrt(np.sum(w1* np.power(X-params['mu2']*np.ones(len(X)),2))) / np.sum(w2)\n",
        "\n",
        "print(params)"
      ],
      "execution_count": null,
      "outputs": []
    },
    {
      "cell_type": "markdown",
      "metadata": {
        "id": "1SVKruMhoTtp"
      },
      "source": [
        "## Running EM\n",
        "\n",
        "We put now the two steps together and iterate until convergence."
      ]
    },
    {
      "cell_type": "code",
      "metadata": {
        "id": "MlLfQSL6obxg"
      },
      "source": [
        "params = params0\n",
        "\n",
        "Th = 0.001\n",
        "P1 = 0.3\n",
        "P2 = 1-P1\n",
        "\n",
        "Lold = -1\n",
        "Lnew = 0\n",
        "L = np.zeros(1)\n",
        "counter = 0\n",
        "while (Lnew - Lold) > Th :\n",
        "  print('Iteration ' + str(counter) + ':')\n",
        "  counter += 1\n",
        "  Lold = Lnew\n",
        "  # E-step:\n",
        "p1 = norm.pdf(X, params['mu1'], params['sigma1'])        #p(x|theta1)\n",
        "p2 = norm.pdf(X, params['mu2'], params['sigma2'])        #p(x|theta2)\n",
        "w1= np.divide((p1*P1), (p1*P1 + p2*P2)) #p(theta1|x)\n",
        "w2 = 1-w1\n",
        "Lnew = (p1*P1 + p2*P2) / len(X)\n",
        "  # M-step:\n",
        "params['mu1'] = np.sum(w1*X) / np.sum(w1)\n",
        "params['mu2'] = np.sum(w2*X) / np.sum(w2)\n",
        "params['sigma1'] = math.sqrt(np.sum(w1* np.power(X-params['mu1']*np.ones(len(X)),2)) / np.sum(w1))\n",
        "params['sigma2'] = math.sqrt(np.sum(w1* np.power(X-params['mu2']*np.ones(len(X)),2))) / np.sum(w2)\n",
        "print(params)\n",
        "\n",
        "xs = np.linspace(0, 60, 300)\n",
        "y1 = norm.pdf( xs, params['mu1'], params['sigma1'])\n",
        "y2 = norm.pdf( xs, params['mu2'], params['sigma2'])\n",
        "\n",
        "# Plot the histogram\n",
        "plt.hist(X, bins=50, density=True)\n",
        "plt.plot(xs, y1, 'g')\n",
        "plt.plot(xs, y2, 'r')\n",
        "plt.show()\n"
      ],
      "execution_count": null,
      "outputs": []
    },
    {
      "cell_type": "markdown",
      "metadata": {
        "id": "W3WsnBcvuv-1"
      },
      "source": [
        "Let's use now the scikit learn package\n"
      ]
    },
    {
      "cell_type": "code",
      "metadata": {
        "id": "y6F4K5mFu0PZ"
      },
      "source": [
        "from sklearn.mixture import GaussianMixture\n",
        "\n",
        "X = X.reshape(len(X), 1)\n",
        "model = GaussianMixture( n_components=2, tol=Th, init_params='kmeans')\n",
        "model.fit(X)\n",
        "\n",
        "yhat = model.predict(X)\n",
        "\n",
        "print(model.converged_)\n",
        "print(model.means_)\n",
        "print(model.covariances_)"
      ],
      "execution_count": null,
      "outputs": []
    },
    {
      "cell_type": "code",
      "source": [
        "from sklearn.mixture import GaussianMixture\n",
        "\n",
        "X = X.reshape(len(X), 1)\n",
        "model = GaussianMixture(n_components=2, tol=Th, init_params='kmeans')\n",
        "model.fit(X)\n",
        "\n",
        "yhat = model.predict(X)\n",
        "\n",
        "print(model.converged_)\n",
        "print(model.means_)\n",
        "print(model.covariances_)"
      ],
      "metadata": {
        "id": "4iMUdg-Swsh_"
      },
      "execution_count": null,
      "outputs": []
    },
    {
      "cell_type": "markdown",
      "metadata": {
        "id": "5X-cBuUP6Nwa"
      },
      "source": [
        "## Further readings\n",
        "\n",
        "* Python implementation from scratch of a more complex (and general) problem: [here](https://towardsdatascience.com/implement-expectation-maximization-em-algorithm-in-python-from-scratch-f1278d1b9137)\n"
      ]
    }
  ]
}